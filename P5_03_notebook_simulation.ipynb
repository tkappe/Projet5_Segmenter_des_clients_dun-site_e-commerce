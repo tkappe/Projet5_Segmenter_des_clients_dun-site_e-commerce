{
 "cells": [
  {
   "cell_type": "markdown",
   "id": "02da2a90-34c1-4846-81ab-659ee5ea8d41",
   "metadata": {
    "tags": []
   },
   "source": [
    "# Projet : Segmenter des clients d'un site de e-commerce : Notebook de simulations et analyse de la stabilité temporelle"
   ]
  },
  {
   "cell_type": "markdown",
   "id": "82f89361-0eb1-48bc-9843-bf3ae4a8adcf",
   "metadata": {},
   "source": [
    "L'expérience d'achat d'un client peut évoluer dans le temps et influencer de façon considérable la segmentation initialement définie.\n",
    "La question centrale est celle de savoir quand faut-il réentraîner le modèle afin que la segmentation reste pertinence et continuer à fournir aux équipes de gestion des clients les informations adéquates pour une amélioration continue des services?"
   ]
  },
  {
   "cell_type": "markdown",
   "id": "d64fc97f-e720-432f-a3c6-8803b6601db8",
   "metadata": {},
   "source": [
    "### Approche mise en place\n",
    "\n",
    "- L’ensemble des données couvrent environ 24 mois,\n",
    "- Initialisation d’une période de référence T0 correspondant à (12 mois d’achats) et entraînement d’une modèle KMeans à 5 clusters,\n",
    "- Définition d’une variable d’incrémentation pour chaque période supplémentaire (un mois supplémentaire d’achats)\n",
    "- Tn = T0 + n mois\n",
    "- Prédictions pour chaque période supplémentaire sur la base du modèle entraîné à T0.\n",
    "- Entraînement du modèle à Tn et comparaison via le score ARI entre T0 et Tn avec un seuil minimum fixé à 0,8."
   ]
  },
  {
   "cell_type": "code",
   "execution_count": 1,
   "id": "fbb4bd14-9a7d-4171-9df8-b2652509c062",
   "metadata": {
    "tags": []
   },
   "outputs": [],
   "source": [
    "# Importation des librairies nécessaires\n",
    "\n",
    "%matplotlib inline\n",
    "from time import time\n",
    "from datetime import datetime\n",
    "from datetime import datetime\n",
    "from dateutil.relativedelta import relativedelta\n",
    "import warnings\n",
    "import numpy as np\n",
    "import pandas as pd\n",
    "import matplotlib as mpl\n",
    "import matplotlib.pyplot as plt\n",
    "import seaborn as sns\n",
    "from sklearn.preprocessing import MinMaxScaler\n",
    "from sklearn.preprocessing import OneHotEncoder\n",
    "from sklearn.compose import ColumnTransformer, make_column_transformer\n",
    "from sklearn.pipeline import Pipeline, make_pipeline\n",
    "from sklearn.decomposition import PCA\n",
    "from sklearn.metrics import adjusted_rand_score, silhouette_score\n",
    "from sklearn import metrics\n",
    "from sklearn.preprocessing import normalize\n",
    "from sklearn.cluster import KMeans\n",
    "\n",
    "mpl.rcParams[\"figure.figsize\"] = (12, 8)\n",
    "warnings.filterwarnings('ignore')"
   ]
  },
  {
   "cell_type": "code",
   "execution_count": 2,
   "id": "bc858c04-7956-4f8b-8301-a36e81a1d619",
   "metadata": {
    "tags": []
   },
   "outputs": [],
   "source": [
    "# Chargement des différentes données utiles\n",
    "orders = pd.read_csv(\"olist_orders_dataset.csv\",sep=\",\",low_memory=False)\n",
    "customers = pd.read_csv(\"olist_customers_dataset.csv\",sep=\",\",low_memory=False)\n",
    "items = pd.read_csv(\"olist_order_items_dataset.csv\",sep=\",\",low_memory=False)\n",
    "sellers = pd.read_csv(\"olist_sellers_dataset.csv\",sep=\",\",low_memory=False)\n",
    "products = pd.read_csv(\"olist_products_dataset.csv\",sep=\",\",low_memory=False)\n",
    "category = pd.read_csv(\"product_category_name_translation.csv\",sep=\",\",low_memory=False)\n",
    "payments = pd.read_csv(\"olist_order_payments_dataset.csv\",sep=\",\",low_memory=False)\n",
    "reviews = pd.read_csv(\"olist_order_reviews_dataset.csv\",sep=\",\",low_memory=False)"
   ]
  },
  {
   "cell_type": "code",
   "execution_count": 3,
   "id": "cd76bab3-022f-422c-a0ff-8474f43a7145",
   "metadata": {
    "tags": []
   },
   "outputs": [],
   "source": [
    "payment = payments.groupby(\"order_id\").agg({\"payment_value\" : \"sum\", \n",
    "                                            \"payment_sequential\" : \"max\"}).reset_index()"
   ]
  },
  {
   "cell_type": "code",
   "execution_count": 4,
   "id": "f9bea3b6-a458-4861-bd30-be9bca7e838c",
   "metadata": {
    "tags": []
   },
   "outputs": [],
   "source": [
    "review = reviews.groupby(\"order_id\")[\"review_score\"].min()"
   ]
  },
  {
   "cell_type": "code",
   "execution_count": 5,
   "id": "3a0903c2-2718-43f1-b65f-519cea4e5a9a",
   "metadata": {
    "tags": []
   },
   "outputs": [],
   "source": [
    "item = items.groupby(\"order_id\").agg({\"order_item_id\" : \"max\",\n",
    "                                          \"seller_id\" : \"count\", \n",
    "                                          \"price\" : \"mean\",\n",
    "                                          \"freight_value\" : \"mean\"}).reset_index()"
   ]
  },
  {
   "cell_type": "code",
   "execution_count": 6,
   "id": "6869ae49-767a-4441-86fa-bcdd857d3730",
   "metadata": {
    "tags": []
   },
   "outputs": [
    {
     "name": "stdout",
     "output_type": "stream",
     "text": [
      "(98207, 15)\n"
     ]
    }
   ],
   "source": [
    "order = orders.loc[~((orders[\"order_status\"] == \"canceled\") \n",
    "                     | (orders[\"order_status\"] == \"unavailable\")), :]\n",
    "order = pd.merge(order, payment, on=\"order_id\", how=\"left\")\n",
    "order = pd.merge(order, item, on=\"order_id\", how=\"left\")\n",
    "order = pd.merge(order, review, on=\"order_id\", how=\"left\")\n",
    "print(order.shape)"
   ]
  },
  {
   "cell_type": "code",
   "execution_count": 7,
   "id": "28319ef7-7c6b-480a-a0dc-6de3a52df6a8",
   "metadata": {
    "tags": []
   },
   "outputs": [
    {
     "name": "stdout",
     "output_type": "stream",
     "text": [
      "(98207, 19)\n",
      "Index(['customer_id', 'customer_unique_id', 'customer_zip_code_prefix',\n",
      "       'customer_city', 'customer_state', 'order_id', 'order_status',\n",
      "       'order_purchase_timestamp', 'order_approved_at',\n",
      "       'order_delivered_carrier_date', 'order_delivered_customer_date',\n",
      "       'order_estimated_delivery_date', 'payment_value', 'payment_sequential',\n",
      "       'order_item_id', 'seller_id', 'price', 'freight_value', 'review_score'],\n",
      "      dtype='object')\n"
     ]
    }
   ],
   "source": [
    "custom_order = pd.merge(customers, order, on=\"customer_id\", how=\"right\")\n",
    "print(custom_order.shape)\n",
    "print(custom_order.columns)"
   ]
  },
  {
   "cell_type": "code",
   "execution_count": 8,
   "id": "d6336a81-a11b-44a4-a543-95b914df04dc",
   "metadata": {
    "tags": []
   },
   "outputs": [],
   "source": [
    "data_raw = custom_order[['customer_unique_id', 'order_id', 'order_purchase_timestamp',\n",
    "                                      'payment_value', 'price', 'review_score']]"
   ]
  },
  {
   "cell_type": "code",
   "execution_count": 9,
   "id": "5236bd23-c0c4-4958-86d0-6d5a4a0667cc",
   "metadata": {
    "tags": []
   },
   "outputs": [],
   "source": [
    "def prep_data (data) :\n",
    "    '''Fonction de préparation des des diffrentes variables'''\n",
    "   \n",
    "    data[\"recence\"] = (data[\"order_purchase_timestamp\"].max()\n",
    "                       -data[\"order_purchase_timestamp\"]) / np.timedelta64(1, \"D\")\n",
    "    data = data.groupby(\"customer_unique_id\").agg({\"recence\" : \"min\", \n",
    "                                                   \"order_id\" : \"count\",\n",
    "                                                   \"payment_value\" : \"sum\", \n",
    "                                                   \"price\" : \"mean\", \n",
    "                                                   \"review_score\" : \"min\"}).reset_index()\n",
    "    data.rename(columns={\"order_id\" : \"frequence\", \n",
    "                         \"payment_value\" : \"montant\", \n",
    "                         \"price\" : \"prix_moy\", \n",
    "                         \"review_score\" : \"note_min\"}, inplace=True)\n",
    "    data.drop(\"customer_unique_id\", axis=1, inplace=True)\n",
    "    data = data.dropna(axis=0)\n",
    "    \n",
    "    return data"
   ]
  },
  {
   "cell_type": "code",
   "execution_count": 10,
   "id": "b8cb5a60-f50b-4484-ab31-0e326c56b7c5",
   "metadata": {
    "tags": []
   },
   "outputs": [],
   "source": [
    "def draw_silhouette (data) :\n",
    "    '''Affiche un graphe avec le coeeficient de silhouette en fonction du nombre de clusters.'''\n",
    "    \n",
    "    silhouettes = []\n",
    "    for n in range(2,8) : \n",
    "        kmeans = KMeans(n_clusters=n)\n",
    "        kmeans.fit(data)\n",
    "        silh = metrics.silhouette_score(data, kmeans.labels_)\n",
    "        silhouettes.append(silh)\n",
    "\n",
    "    plt.plot(range(2,8), silhouettes)\n",
    "    plt.show()"
   ]
  },
  {
   "cell_type": "code",
   "execution_count": 11,
   "id": "17b4d4f6-65c5-4fa7-89fd-f8059cd03c6e",
   "metadata": {
    "tags": []
   },
   "outputs": [],
   "source": [
    "def segmentation (data, kmeans_T0):\n",
    "    '''Fonction effectuant une mise à l'échelle et un regroupement KMeans.\n",
    "    \n",
    "    Paramètres : \n",
    "    - data : DataFrame : données sur lesquelles le regroupement doit être effectué\n",
    "    - kmeans_T0 : modèle KMeans ajusté sur les données au temps T0\n",
    "    \n",
    "    Résultats : \n",
    "    - labels : prédiction du modèle de clustering au nouveau moment\n",
    "        - ari : Indice de Rand ajusté entre les deux segmentations à T0 et au nouveau moment\n",
    "    '''\n",
    "    scale = MinMaxScaler()\n",
    "    data_norm = scale.fit_transform(data)\n",
    "    labels_ref = kmeans_T0.predict(data_norm)\n",
    "    kmeans = KMeans(n_clusters=5)\n",
    "    kmeans.fit(data_norm)\n",
    "    centroids_norm = kmeans.cluster_centers_\n",
    "    centroids = scale.inverse_transform(centroids_norm)\n",
    "    labels = kmeans.labels_\n",
    "    ari = metrics.adjusted_rand_score(labels_ref, labels)\n",
    "        \n",
    "    return labels, centroids, ari"
   ]
  },
  {
   "cell_type": "code",
   "execution_count": 12,
   "id": "e77c8d79-62f5-4320-aa10-7f2969a1e192",
   "metadata": {
    "tags": []
   },
   "outputs": [],
   "source": [
    "def maintenance (data):\n",
    "    '''Fonction affichant l'indice de Rand ajusté (ARI) entre les clusters\n",
    "    en fonction du temps écoulé et des données ajoutées ou modifiées.'''\n",
    "    \n",
    "    # Préparation des données de référence pour une année de commandes : \n",
    "    data[\"order_purchase_timestamp\"] = pd.to_datetime(data[\"order_purchase_timestamp\"])\n",
    "    start_T0 = data[\"order_purchase_timestamp\"].min()\n",
    "    end_T0 = start_T0 + relativedelta(years=1)\n",
    "    \n",
    "    mask_T0 = ((data[\"order_purchase_timestamp\"] >= start_T0) & (data[\"order_purchase_timestamp\"] < end_T0))\n",
    "    data_T0 = data.loc[mask_T0]\n",
    "    data_T0 = prep_data(data_T0) # DataFrame avec les 5 variables, recence, frequence, montant, prix_moy et note_min\n",
    "    \n",
    "    # Entrainement d'un KMeans (5 clusters) sur le DataFrame de référence : \n",
    "    scale_T0 = MinMaxScaler()\n",
    "    data_T0_norm = scale_T0.fit_transform(data_T0)\n",
    "    kmeans_T0 = KMeans(n_clusters = 5)\n",
    "    kmeans_T0.fit(data_T0_norm)\n",
    "    \n",
    "    monthN = relativedelta(months=1)\n",
    "    ari_Tn = []\n",
    "    end_Tn = end_T0 + monthN # initiation à T0 + 1 mois\n",
    "  \n",
    "    while end_Tn < data[\"order_purchase_timestamp\"].max() : \n",
    "        mask_Tn = ((data[\"order_purchase_timestamp\"] >= start_T0) & (data[\"order_purchase_timestamp\"] < end_Tn))\n",
    "        data_Tn = data.loc[mask_Tn]\n",
    "        data_Tn = prep_data(data_Tn)\n",
    "        \n",
    "        # Récupération de l'ARI entre les clusters avec ou sans entrainement au temps n: \n",
    "        l, c, ari = segmentation (data_Tn, kmeans_T0)\n",
    "        ari_Tn.append(ari)\n",
    "        \n",
    "        end_Tn += monthN # incrementation d'un mois\n",
    "    \n",
    "    # Affichage de l'évolution des ARI dans le temps :\n",
    "    x = range(2, len(ari_Tn)+2, 1) # absisse en nombre de mois\n",
    "    plt.plot(x, ari_Tn)\n",
    "    plt.axhline(y=0.8, linestyle=\"--\", \n",
    "            color=\"red\",\n",
    "            linewidth=1)\n",
    "    plt.title(\"Évolution de l'indice Rand ajusté (ARI) entre les clusters en fonction du nombre de mois.\")\n",
    "    plt.ylabel(\"Score ARI entre les clusters\")\n",
    "    plt.xlabel(\"Temps en nombre de mois\")\n",
    "    \n",
    "    return ari_Tn"
   ]
  },
  {
   "cell_type": "code",
   "execution_count": 13,
   "id": "cdeed815-1a57-4dc9-a7a2-48d509323564",
   "metadata": {
    "tags": []
   },
   "outputs": [
    {
     "name": "stdout",
     "output_type": "stream",
     "text": [
      "<class 'pandas.core.frame.DataFrame'>\n",
      "RangeIndex: 98207 entries, 0 to 98206\n",
      "Data columns (total 6 columns):\n",
      " #   Column                    Non-Null Count  Dtype         \n",
      "---  ------                    --------------  -----         \n",
      " 0   customer_unique_id        98207 non-null  object        \n",
      " 1   order_id                  98207 non-null  object        \n",
      " 2   order_purchase_timestamp  98207 non-null  datetime64[ns]\n",
      " 3   payment_value             98206 non-null  float64       \n",
      " 4   price                     98199 non-null  float64       \n",
      " 5   review_score              97473 non-null  float64       \n",
      "dtypes: datetime64[ns](1), float64(3), object(2)\n",
      "memory usage: 4.5+ MB\n"
     ]
    }
   ],
   "source": [
    "data_raw[\"order_purchase_timestamp\"] = pd.to_datetime(data_raw[\"order_purchase_timestamp\"])\n",
    "data_raw.info()"
   ]
  },
  {
   "cell_type": "code",
   "execution_count": 14,
   "id": "9ba1295d-fe14-4341-ac58-047cfefc951b",
   "metadata": {
    "tags": []
   },
   "outputs": [
    {
     "data": {
      "text/plain": [
       "(26975, 6)"
      ]
     },
     "metadata": {},
     "output_type": "display_data"
    }
   ],
   "source": [
    "start_T0 = pd.Timestamp('2016-09-05')\n",
    "end_T0 = pd.Timestamp('2017-09-30')\n",
    "mask = ((data_raw[\"order_purchase_timestamp\"] >= start_T0) \n",
    "        & (data_raw[\"order_purchase_timestamp\"] < end_T0))\n",
    "display(data_raw.loc[mask].shape)"
   ]
  },
  {
   "cell_type": "code",
   "execution_count": 15,
   "id": "69fd85a3-7717-4ac1-91af-a60dd0d99999",
   "metadata": {
    "tags": []
   },
   "outputs": [],
   "source": [
    "dataset = data_raw.copy()\n",
    "dataset[\"recence\"] = (dataset[\"order_purchase_timestamp\"].max()\n",
    "                       -dataset[\"order_purchase_timestamp\"]) / np.timedelta64(1, \"D\")\n",
    "dataset = dataset.groupby(\"customer_unique_id\").agg({\"recence\" : \"min\", \n",
    "                                                      \"order_id\" : \"count\",\n",
    "                                                      \"payment_value\" : \"sum\", \n",
    "                                                      \"price\" : \"mean\", \n",
    "                                                      \"review_score\" : \"min\"}).reset_index()\n",
    "dataset.rename(columns={\"order_id\" : \"frequence\", \n",
    "                        \"payment_value\" : \"montant\", \n",
    "                        \"price\" : \"prix_moy\", \n",
    "                        \"review_score\" : \"note_min\"}, inplace=True)\n",
    "dataset.drop(\"customer_unique_id\", axis=1, inplace=True)\n"
   ]
  },
  {
   "cell_type": "code",
   "execution_count": 16,
   "id": "4d0afbc5-9510-4a34-95fb-39e911fc6242",
   "metadata": {
    "tags": []
   },
   "outputs": [],
   "source": [
    "dataset_T0 = data_raw.loc[mask]"
   ]
  },
  {
   "cell_type": "code",
   "execution_count": 17,
   "id": "a44a4b0b-dd52-4251-b67e-a6646aa230d1",
   "metadata": {
    "tags": []
   },
   "outputs": [
    {
     "data": {
      "text/html": [
       "<div>\n",
       "<style scoped>\n",
       "    .dataframe tbody tr th:only-of-type {\n",
       "        vertical-align: middle;\n",
       "    }\n",
       "\n",
       "    .dataframe tbody tr th {\n",
       "        vertical-align: top;\n",
       "    }\n",
       "\n",
       "    .dataframe thead th {\n",
       "        text-align: right;\n",
       "    }\n",
       "</style>\n",
       "<table border=\"1\" class=\"dataframe\">\n",
       "  <thead>\n",
       "    <tr style=\"text-align: right;\">\n",
       "      <th></th>\n",
       "      <th>recence</th>\n",
       "      <th>frequence</th>\n",
       "      <th>montant</th>\n",
       "      <th>prix_moy</th>\n",
       "      <th>note_min</th>\n",
       "    </tr>\n",
       "  </thead>\n",
       "  <tbody>\n",
       "    <tr>\n",
       "      <th>0</th>\n",
       "      <td>203.118947</td>\n",
       "      <td>1</td>\n",
       "      <td>86.22</td>\n",
       "      <td>69.00</td>\n",
       "      <td>3.0</td>\n",
       "    </tr>\n",
       "    <tr>\n",
       "      <th>1</th>\n",
       "      <td>209.016759</td>\n",
       "      <td>1</td>\n",
       "      <td>150.12</td>\n",
       "      <td>135.00</td>\n",
       "      <td>4.0</td>\n",
       "    </tr>\n",
       "    <tr>\n",
       "      <th>2</th>\n",
       "      <td>73.606366</td>\n",
       "      <td>1</td>\n",
       "      <td>29.00</td>\n",
       "      <td>13.90</td>\n",
       "      <td>3.0</td>\n",
       "    </tr>\n",
       "    <tr>\n",
       "      <th>3</th>\n",
       "      <td>49.424363</td>\n",
       "      <td>1</td>\n",
       "      <td>91.28</td>\n",
       "      <td>76.99</td>\n",
       "      <td>4.0</td>\n",
       "    </tr>\n",
       "    <tr>\n",
       "      <th>4</th>\n",
       "      <td>0.381505</td>\n",
       "      <td>1</td>\n",
       "      <td>46.85</td>\n",
       "      <td>35.00</td>\n",
       "      <td>4.0</td>\n",
       "    </tr>\n",
       "  </tbody>\n",
       "</table>\n",
       "</div>"
      ],
      "text/plain": [
       "      recence  frequence  montant  prix_moy  note_min\n",
       "0  203.118947          1    86.22     69.00       3.0\n",
       "1  209.016759          1   150.12    135.00       4.0\n",
       "2   73.606366          1    29.00     13.90       3.0\n",
       "3   49.424363          1    91.28     76.99       4.0\n",
       "4    0.381505          1    46.85     35.00       4.0"
      ]
     },
     "metadata": {},
     "output_type": "display_data"
    },
    {
     "name": "stdout",
     "output_type": "stream",
     "text": [
      "(25980, 5)\n"
     ]
    }
   ],
   "source": [
    "dataset_T0 = prep_data(dataset_T0)\n",
    "display(dataset_T0.head())\n",
    "print(dataset_T0.shape)"
   ]
  },
  {
   "cell_type": "code",
   "execution_count": 18,
   "id": "5a7380ca-6a86-4c62-bbeb-049a698f6a49",
   "metadata": {
    "tags": []
   },
   "outputs": [],
   "source": [
    "scale_T0 = MinMaxScaler()\n",
    "dataset_T0_norm = scale_T0.fit_transform(dataset_T0)"
   ]
  },
  {
   "cell_type": "code",
   "execution_count": 19,
   "id": "e272a560-b9ed-4568-a229-11115d2a3b43",
   "metadata": {
    "tags": []
   },
   "outputs": [
    {
     "name": "stderr",
     "output_type": "stream",
     "text": [
      "  File \"C:\\Users\\tykap\\anaconda3\\envs\\myenv\\Lib\\site-packages\\joblib\\externals\\loky\\backend\\context.py\", line 217, in _count_physical_cores\n",
      "    raise ValueError(\n"
     ]
    },
    {
     "data": {
      "image/png": "[encoded data removed]",
      "text/plain": [
       "<Figure size 1200x800 with 1 Axes>"
      ]
     },
     "metadata": {},
     "output_type": "display_data"
    }
   ],
   "source": [
    "draw_silhouette(dataset_T0_norm)"
   ]
  },
  {
   "cell_type": "code",
   "execution_count": 20,
   "id": "02be444e-cede-4c77-8d84-a2ca0fa25ab7",
   "metadata": {
    "tags": []
   },
   "outputs": [],
   "source": [
    "kmeans_T0 = KMeans(n_clusters = 5)\n",
    "kmeans_T0.fit(dataset_T0_norm)\n",
    "dataset_T0[\"clusters\"] = kmeans_T0.labels_\n",
    "centroids_T0_norm = kmeans_T0.cluster_centers_"
   ]
  },
  {
   "cell_type": "code",
   "execution_count": 21,
   "id": "991358d0-2422-44b8-a5ff-8c02a4ed8ce0",
   "metadata": {
    "tags": []
   },
   "outputs": [],
   "source": [
    "start_T1 = pd.Timestamp('2016-09-05')\n",
    "end_T1 = pd.Timestamp('2017-10-30')\n",
    "mask = ((data_raw[\"order_purchase_timestamp\"] >= start_T1) \n",
    "        & (data_raw[\"order_purchase_timestamp\"] < end_T1))\n",
    "dataset_T1 = data_raw.loc[mask]\n"
   ]
  },
  {
   "cell_type": "code",
   "execution_count": 22,
   "id": "9658d28b-9851-479b-b9d8-a768bf19c1a6",
   "metadata": {
    "tags": []
   },
   "outputs": [],
   "source": [
    "dataset_T1 = prep_data(dataset_T1)"
   ]
  },
  {
   "cell_type": "code",
   "execution_count": 23,
   "id": "42c34fee-0aff-41ce-82d7-442757c38a08",
   "metadata": {
    "tags": []
   },
   "outputs": [],
   "source": [
    "labels_T1, centroids_T1, ari_T1 = segmentation(dataset_T1, kmeans_T0)"
   ]
  },
  {
   "cell_type": "code",
   "execution_count": 24,
   "id": "80a822dc-3ebc-480c-bf16-e425469c645a",
   "metadata": {
    "tags": []
   },
   "outputs": [],
   "source": [
    "dataset_T1[\"clusters\"] = labels_T1\n"
   ]
  },
  {
   "cell_type": "code",
   "execution_count": 25,
   "id": "7eeee690-c8d1-491c-a493-a0cba5515ff0",
   "metadata": {
    "tags": []
   },
   "outputs": [
    {
     "name": "stdout",
     "output_type": "stream",
     "text": [
      "Score ARI entre clusters à T0 et à T1 : 0.9672421089034389\n"
     ]
    }
   ],
   "source": [
    "print(\"Score ARI entre clusters à T0 et à T1 :\", ari_T1)"
   ]
  },
  {
   "cell_type": "code",
   "execution_count": 26,
   "id": "052a6b3f-f89b-4db6-92c6-8a44e04c146b",
   "metadata": {
    "tags": []
   },
   "outputs": [
    {
     "name": "stdout",
     "output_type": "stream",
     "text": [
      "2016-09-04 21:15:19\n",
      "2017-09-04 21:15:19\n"
     ]
    }
   ],
   "source": [
    "# Définition de la période T0 d'un an : \n",
    "print(data_raw[\"order_purchase_timestamp\"].min())\n",
    "print(data_raw[\"order_purchase_timestamp\"].min() + relativedelta(years=1))"
   ]
  },
  {
   "cell_type": "code",
   "execution_count": 27,
   "id": "e3cbc220-1511-49ef-b135-3cf7a27c5173",
   "metadata": {
    "tags": []
   },
   "outputs": [
    {
     "name": "stdout",
     "output_type": "stream",
     "text": [
      "2017-09-30 00:00:00\n",
      "2017-10-30 00:00:00\n",
      "2017-11-30 00:00:00\n",
      "2017-12-30 00:00:00\n",
      "2018-01-30 00:00:00\n",
      "2018-02-28 00:00:00\n",
      "2018-03-28 00:00:00\n",
      "2018-04-28 00:00:00\n",
      "2018-05-28 00:00:00\n",
      "2018-06-28 00:00:00\n",
      "2018-07-28 00:00:00\n",
      "2018-08-28 00:00:00\n"
     ]
    }
   ],
   "source": [
    "end_Tn = end_T0\n",
    "while end_Tn < data_raw[\"order_purchase_timestamp\"].max() :\n",
    "    print(end_Tn)\n",
    "    end_Tn += relativedelta(months=1)"
   ]
  },
  {
   "cell_type": "code",
   "execution_count": 28,
   "id": "7b6badef-0cb1-432d-9547-edbbd4389939",
   "metadata": {
    "tags": []
   },
   "outputs": [
    {
     "data": {
      "image/png": "[encoded data removed]",
      "text/plain": [
       "<Figure size 1200x800 with 1 Axes>"
      ]
     },
     "metadata": {},
     "output_type": "display_data"
    }
   ],
   "source": [
    "data_test = data_raw.copy()\n",
    "liste_ari = maintenance(data_test)"
   ]
  },
  {
   "cell_type": "markdown",
   "id": "21d8dc0b-aa09-470c-96eb-7b368012f4ae",
   "metadata": {},
   "source": [
    "### Conclusion\n",
    "\n",
    "IL est nécessaire d’effectuer une maintenance du modèle initial après environ 6,5 mois."
   ]
  },
  {
   "cell_type": "code",
   "execution_count": null,
   "id": "e1cc24a5-00a1-4859-be9c-1910c66a3a9c",
   "metadata": {},
   "outputs": [],
   "source": []
  },
  {
   "cell_type": "code",
   "execution_count": null,
   "id": "34f8719d-4490-41b4-b855-18c7f9bb8fcd",
   "metadata": {},
   "outputs": [],
   "source": []
  },
  {
   "cell_type": "code",
   "execution_count": null,
   "id": "f9ba28e8-3542-49a0-82da-325d8b09ad1d",
   "metadata": {},
   "outputs": [],
   "source": []
  }
 ],
 "metadata": {
  "kernelspec": {
   "display_name": "Python 3 (ipykernel)",
   "language": "python",
   "name": "python3"
  },
  "language_info": {
   "codemirror_mode": {
    "name": "ipython",
    "version": 3
   },
   "file_extension": ".py",
   "mimetype": "text/x-python",
   "name": "python",
   "nbconvert_exporter": "python",
   "pygments_lexer": "ipython3",
   "version": "3.11.5"
  }
 },
 "nbformat": 4,
 "nbformat_minor": 5
}
